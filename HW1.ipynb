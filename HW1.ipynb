{
 "cells": [
  {
   "cell_type": "markdown",
   "metadata": {},
   "source": [
    "# AST 384C - Computational Astrophysics - HW 1\n",
    "## Carlos Jurado"
   ]
  },
  {
   "cell_type": "code",
   "execution_count": 13,
   "metadata": {},
   "outputs": [],
   "source": [
    "# Python package imports\n",
    "import pandas as pd\n",
    "import numpy as np\n",
    "import matplotlib.pyplot as plt \n",
    "\n",
    "# Loading in style file for plots\n",
    "plt.style.use('/Users/caj3577/Desktop/plotting.mplstyle')"
   ]
  },
  {
   "cell_type": "markdown",
   "metadata": {},
   "source": [
    "## Problem 1: \n",
    "Compute the integral\n",
    "\n",
    "$$ \\int_1^5 = \\frac{1}{x^{3/2}} dx$$\n",
    "\n",
    "with the three methods (Rectangle Rule, Trapezoid Rule, Simposon's Rule) and plot the error in the numerical integral against the step\n",
    "size ∆x (or number of bins N) for several values of N ∈[5, 1000] for each method. Time\n",
    "each calculation as well (time.timeit will work well in python). Approximately how\n",
    "many steps are required to get an answer with a relative error of |I−Iexact|/Iexact < 10−3?\n",
    "What about 10−5? What did you lean about the trade-off between method, accuracy and\n",
    "calculation speed? (Note: you can test your implementation against the implementations in\n",
    "scipy.integrate.)"
   ]
  },
  {
   "cell_type": "code",
   "execution_count": 85,
   "metadata": {},
   "outputs": [],
   "source": [
    "\n",
    "def integrate_rectangles(func, N, a, b):\n",
    "    ''' \n",
    "    Numerically integrates a function using the Rectangle method\n",
    "\n",
    "    func - The function to integrate over \n",
    "    N - The number of rectangles to compute the total intergral with \n",
    "    a - The lower bound of integration \n",
    "    b - The upper bound of integration \n",
    "    '''\n",
    "    \n",
    "    suma = []\n",
    "    delta_x = (b-a)/N\n",
    "\n",
    "    for i in range(N):\n",
    "        i = i + 1 #indexing stars at 0 in python\n",
    "        x_i = a + (i-1)*delta_x # Computing left endpoint rectangles\n",
    "        sum_i = func(x_i) * delta_x\n",
    "        suma.append(sum_i)\n",
    "\n",
    "    return suma, sum(suma)\n",
    "\n",
    "\n",
    "def integrate_trapezoids(func, N, a, b):\n",
    "    ''' \n",
    "    Numerically integrates a function using the Trapezoid method\n",
    "\n",
    "    func - The function to integrate over \n",
    "    N - The number of Trapezoid to compute the total intergral with \n",
    "    a - The lower bound of integration \n",
    "    b - The upper bound of integration \n",
    "    '''\n",
    "\n",
    "    suma = []\n",
    "    delta_x = (b-a)/N\n",
    "    x_i1 = a #initialize left edge of trapezoid \n",
    "\n",
    "\n",
    "    for i in range(N):\n",
    "        i = i + 1 #indexing stars at 0 in python\n",
    "        x_i2 = a + (i)*delta_x\n",
    "        sum_i = ( func(x_i1) + func(x_i2) )/2 * delta_x\n",
    "        suma.append(sum_i)\n",
    "        x_i1 = x_i2\n",
    "\n",
    "    return suma, sum(suma)\n",
    "    \n",
    "    \n",
    "\n"
   ]
  },
  {
   "cell_type": "code",
   "execution_count": 86,
   "metadata": {},
   "outputs": [
    {
     "name": "stdout",
     "output_type": "stream",
     "text": [
      "1.201510604985488\n",
      "1.1104548768954872\n"
     ]
    }
   ],
   "source": [
    "def f1(x):\n",
    "    return (1/x**(3/2))\n",
    "\n",
    "N, b, a = 20, 1, 5\n",
    "\n",
    "value_rectangles = integrate_rectangles(f1, N, b, a)\n",
    "print(value_rectangles[1])\n",
    "\n",
    "\n",
    "value_trapezoids = integrate_trapezoids(f1, N, b, a)\n",
    "print(value_trapezoids[1])\n"
   ]
  },
  {
   "cell_type": "code",
   "execution_count": null,
   "metadata": {},
   "outputs": [],
   "source": []
  }
 ],
 "metadata": {
  "kernelspec": {
   "display_name": "base",
   "language": "python",
   "name": "python3"
  },
  "language_info": {
   "codemirror_mode": {
    "name": "ipython",
    "version": 3
   },
   "file_extension": ".py",
   "mimetype": "text/x-python",
   "name": "python",
   "nbconvert_exporter": "python",
   "pygments_lexer": "ipython3",
   "version": "3.12.4"
  }
 },
 "nbformat": 4,
 "nbformat_minor": 2
}
