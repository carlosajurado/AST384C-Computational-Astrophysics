{
 "cells": [
  {
   "cell_type": "markdown",
   "metadata": {},
   "source": [
    "# AST 384C - Computational Astrophysics - HW 1\n",
    "## Carlos Jurado"
   ]
  },
  {
   "cell_type": "code",
   "execution_count": 1,
   "metadata": {},
   "outputs": [],
   "source": [
    "# Python package imports\n",
    "import pandas as pd\n",
    "import numpy as np\n",
    "import matplotlib.pyplot as plt \n",
    "import timeit\n",
    "from tqdm import tqdm\n",
    "import time\n",
    "\n",
    "# Loading in style file for plots\n",
    "plt.style.use('/Users/caj3577/Desktop/plotting.mplstyle')"
   ]
  },
  {
   "cell_type": "markdown",
   "metadata": {},
   "source": [
    "# Problem 1"
   ]
  },
  {
   "cell_type": "markdown",
   "metadata": {},
   "source": [
    "The standard Kepler problem is the bound orbit of a test particle around a body of mass M. The\n",
    "equations are:\n",
    "\n",
    "$$ \n",
    "\\boldsymbol{\\dot{r}} = \\boldsymbol{v}\n",
    "$$\n",
    "\n",
    "$$\n",
    "\\boldsymbol{\\dot{v}} = \\frac{GM}{r^3}\\boldsymbol{r}\n",
    "$$\n",
    "\n",
    "where r = (x, y) and v = (vx, vy). Initialize the system with the particle at (0, rp ) with velocity\n",
    "(−vp, 0), which puts the particle moving counterclockwise with velocity vp at pericenter rp.\n",
    "\n",
    "For this homework, assume the orbit is that of a planet at the Earth-Sun separation (a = 1 AU)\n",
    "around central mass with M = 1 M⊙"
   ]
  },
  {
   "cell_type": "markdown",
   "metadata": {},
   "source": [
    "- Implement a 4th-order Runge-Kutta solver with fixed timestep to solve the Kepler problem.\n",
    "First, apply this to a circular orbit (e = 0) over a 1 year period. Compare results for a\n",
    "timestep of 1 month (1/12 of a period), 1 week (you can approximate this as 1/48 of a\n",
    "period for this exercise), and 1 day (1/365.25 of a period). Relative to the initial value, how\n",
    "does the error in the final position depend on the timestep? How about the error in the\n",
    "energy?"
   ]
  },
  {
   "cell_type": "code",
   "execution_count": 2,
   "metadata": {},
   "outputs": [],
   "source": [
    "class KeplerOrbit:\n",
    "    ''' \n",
    "    Sets-up and tracks a particle in a Keplerian orbit and it's subsequent time evolution. \n",
    "\n",
    "    Attributes:\n",
    "        state (np.array): The current phase-space state vector in cartesian coordinates -- [x,y,vx,vy]\n",
    "        GM (float): Gravitational Constant multiplied by the mass of the central body ( [M] in Solar Masses, [T] in Years, [L] in AU )\n",
    "\n",
    "    Methods:\n",
    "    \n",
    "        __init__ \n",
    "            Initializes a KeplerOrbit object with state and GM attributes.         \n",
    "             \n",
    "\n",
    "        specfic_energy\n",
    "            Calculates the specific energy of the orbiting body at the current state\n",
    "\n",
    "            Return: (float)\n",
    "\n",
    "\n",
    "        positional_derivative: \n",
    "            Calculates the velocity of the orbiting body at the current state\n",
    "\n",
    "            Parameters:\n",
    "                State ( np.array of shape (4,1) ): The current phase-space state of the particle\n",
    "\n",
    "            Return: ( np.array of shape (2,1) )\n",
    "\n",
    "            \n",
    "        velocity_derivative: \n",
    "            Calculates the acceleration of the orbiting body at the current state\n",
    "\n",
    "            Parameters:\n",
    "                State ( np.array of shape (4,1) ): The current phase-space state of the particle\n",
    "\n",
    "            Return: ( np.array of shape (2,1) )\n",
    "\n",
    "        RK4: \n",
    "            Fourth-order Runge-Kutta Implementation to track a point-mass particle's trajectory.\n",
    "            At the end of one iteration, the current state and history of the object is updated. \n",
    "            \n",
    "            Parameters: \n",
    "                dt: The amount of time to evolve the system forward \n",
    "                N: The number of intervals to evavluate the particle's position at \n",
    "\n",
    "            \n",
    "    '''\n",
    "\n",
    "\n",
    "    def __init__(self, initial_state, GM):\n",
    "        self.state = np.array(initial_state, dtype=np.float64)\n",
    "        self.GM = GM\n",
    "        self.state_history = [self.state]\n",
    "\n",
    "\n",
    "    def specific_energy(self):\n",
    "        position_arr, velocity_arr = self.state[0:2], self.state[2:]\n",
    "\n",
    "        r = np.sqrt(position_arr[0]**2 + position_arr[1]**2)\n",
    "        v = np.sqrt(velocity_arr[0]**2 + velocity_arr[1]**2)\n",
    "\n",
    "        return 0.5*(v**2) - (self.GM)/r\n",
    "\n",
    "\n",
    "    def positional_derivative(self, state):\n",
    "        return state[2:]\n",
    "    \n",
    "     \n",
    "    def velocity_derivative(self, state):\n",
    "        r = np.sqrt( state[0]**2 + state[1]**2  )\n",
    "        return -self.GM/(r**3) * state[0:2]\n",
    "\n",
    "\n",
    "    def RK4(self, dt, N):\n",
    "        for i in range(N):\n",
    "\n",
    "            k1vel = dt*self.velocity_derivative(self.state) \n",
    "            k1pos = dt*self.positional_derivative(self.state)\n",
    "\n",
    "            \n",
    "            k2vel = dt*self.velocity_derivative( self.state + 0.5*np.concatenate( (k1pos, k1vel), axis=0 ) )\n",
    "            k2pos = dt*self.positional_derivative( self.state + 0.5*np.concatenate( (k1pos, k1vel), axis=0 ) )\n",
    "\n",
    "            k3vel = dt*self.velocity_derivative( self.state + 0.5*np.concatenate( (k2pos, k2vel), axis=0 ) )\n",
    "            k3pos = dt*self.positional_derivative( self.state + 0.5*np.concatenate( (k2pos, k2vel), axis=0 ) )\n",
    "\n",
    "\n",
    "            k4vel = dt*self.velocity_derivative( self.state + np.concatenate( (k3pos, k3vel), axis=0 ) )\n",
    "            k4pos = dt*self.positional_derivative( self.state + np.concatenate( (k3pos, k3vel), axis=0 ) )\n",
    "\n",
    "\n",
    "            k1 = np.concatenate((k1pos, k1vel))\n",
    "            k2 = np.concatenate((k2pos, k2vel))\n",
    "            k3 = np.concatenate((k3pos, k3vel))\n",
    "            k4 = np.concatenate((k4pos, k4vel))\n",
    "\n",
    "            self.state += (1/6)*(k1+2*k2+2*k3+k4)\n",
    "            self.state_history.append(self.state.copy())\n",
    "\n",
    "\n",
    "\n",
    "    def xyvxvy_history(self):\n",
    "        state_array = np.array(self.state_history)\n",
    "        \n",
    "        # Split the array into separate components\n",
    "        x_history = state_array[:, 0]\n",
    "        y_history = state_array[:, 1]\n",
    "        vx_history = state_array[:, 2]\n",
    "        vy_history = state_array[:, 3]\n",
    "        \n",
    "        return x_history, y_history, vx_history, vy_history"
   ]
  },
  {
   "cell_type": "code",
   "execution_count": 3,
   "metadata": {},
   "outputs": [],
   "source": [
    "def velocity(GM, a, e):\n",
    "    return np.sqrt(GM/a) * np.sqrt( (1+e)/(1-e) )\n",
    "\n",
    "\n",
    "a_intial = 1\n",
    "e_initial = 0\n",
    "GM = 4 * np.pi**2 \n",
    "\n",
    "v_initial = - velocity(GM, a_intial, e_initial)\n",
    "\n",
    "initial_state = np.array([0,a_intial,v_initial,0])\n",
    "\n",
    "\n",
    "orbit = KeplerOrbit(initial_state, GM=4*np.pi**2)\n",
    "\n",
    "\n",
    "\n",
    "start_time, end_time = 0,1\n",
    "N = 100 #numer of intervals\n",
    "dt = (end_time - start_time)/N\n",
    "time_ev = np.linspace(start_time, end_time, N+1, endpoint=True)\n",
    "\n",
    "\n",
    "orbit.RK4(dt, N)\n",
    "dynamical_history = orbit.xyvxvy_history()\n"
   ]
  },
  {
   "cell_type": "code",
   "execution_count": 4,
   "metadata": {},
   "outputs": [
    {
     "data": {
      "text/plain": [
       "(-2.0, 2.0)"
      ]
     },
     "execution_count": 4,
     "metadata": {},
     "output_type": "execute_result"
    },
    {
     "data": {
      "image/png": "[encoded data removed]",
      "text/plain": [
       "<Figure size 800x800 with 1 Axes>"
      ]
     },
     "metadata": {},
     "output_type": "display_data"
    }
   ],
   "source": [
    "plt.figure(figsize=(8, 8))\n",
    "plt.plot(dynamical_history[0], dynamical_history[1])\n",
    "plt.scatter(0, 0, marker = '*', color = 'darkorange', s=200, label='Sun')\n",
    "\n",
    "plt.xlim(-2, 2)\n",
    "plt.ylim(-2, 2)"
   ]
  },
  {
   "cell_type": "code",
   "execution_count": null,
   "metadata": {},
   "outputs": [],
   "source": []
  }
 ],
 "metadata": {
  "kernelspec": {
   "display_name": "base",
   "language": "python",
   "name": "python3"
  },
  "language_info": {
   "codemirror_mode": {
    "name": "ipython",
    "version": 3
   },
   "file_extension": ".py",
   "mimetype": "text/x-python",
   "name": "python",
   "nbconvert_exporter": "python",
   "pygments_lexer": "ipython3",
   "version": "3.12.4"
  }
 },
 "nbformat": 4,
 "nbformat_minor": 2
}
