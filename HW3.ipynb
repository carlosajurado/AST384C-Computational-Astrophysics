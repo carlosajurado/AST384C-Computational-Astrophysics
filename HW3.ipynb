{
 "cells": [
  {
   "cell_type": "markdown",
   "metadata": {},
   "source": [
    "# AST 384C - Computational Astrophysics - HW 3\n",
    "## Carlos Jurado"
   ]
  },
  {
   "cell_type": "code",
   "execution_count": 1,
   "metadata": {},
   "outputs": [],
   "source": [
    "# Python package imports\n",
    "import pandas as pd\n",
    "import numpy as np\n",
    "import matplotlib.pyplot as plt \n",
    "import timeit\n",
    "from tqdm import tqdm\n",
    "import time\n",
    "\n",
    "# Loading in style file for plots\n",
    "plt.style.use('/Users/caj3577/Desktop/plotting.mplstyle')"
   ]
  },
  {
   "cell_type": "markdown",
   "metadata": {},
   "source": [
    "# Problem 1: using KTrees"
   ]
  },
  {
   "cell_type": "markdown",
   "metadata": {},
   "source": [
    "Set up a code that can generate (uniform) random postions in 3D for a set of N equal-mass\n",
    "particles in the range [0, 100] in each dimesion. Make sure to use a random number\n",
    "generator with a seed state that you can specify so that these initial positions are repeatable\n",
    "exactly.\n",
    "calculate the acceleration of every particle assuming vacuum boundary conditions (i.e., you\n",
    "don’t have to worry about periodic boundaries or anything like that) both directly and\n",
    "using a KDTree for N ∈103,4,5,6. How does the timing scale for each method? Do your\n",
    "calculations depend on the method you used?"
   ]
  },
  {
   "cell_type": "markdown",
   "metadata": {},
   "source": [
    "If we let $GM = 1$ in arbitrary units, then the acceleration felt by a particle at position, $r_i$, is given as:\n",
    "\n",
    "$$ \n",
    "\\vec{a_i} = \\sum_{j=0}^{N} \\left( \\frac{-\\vec{r_{ij}}}{|\\vec{r_{ij}}|^3}\\right), i \\neq j\n",
    "$$"
   ]
  },
  {
   "cell_type": "code",
   "execution_count": 21,
   "metadata": {},
   "outputs": [
    {
     "name": "stdout",
     "output_type": "stream",
     "text": [
      "(1000, 3)\n",
      "(1000, 1000, 3)\n",
      "(3,)\n"
     ]
    }
   ],
   "source": [
    "\n",
    "np.random.seed(1234) #initalize random seed for reproducibility\n",
    "\n",
    "N = 10**3\n",
    "\n",
    "r_vecs = np.random.uniform(0,100,size=(N, 3)) #generates a numpy array of N 3D vectors in the range of [0, 100] in each dimension\n",
    "#print(r_vecs.shape)\n",
    "displacement_vecs = np.zeros((N, N, 3)) # Create the numpy array structure to hold the distance vectors for all particles from one another\n",
    "acceleration_vecs = np.zeros(N, 3)      # Create the numpy array structure to hold the acceleration vectors for all particles\n",
    "#print(displacement_vecs.shape)\n",
    "for i in range(N):\n",
    "    for j in range(N):\n",
    "        displacement_vecs[i,j] = r_vecs[j] - r_vecs[i] #calculate the displacement between r_j and r_i\n",
    "\n",
    "    distances = displacement_vecs[i,j]\n",
    "\n"
   ]
  },
  {
   "cell_type": "code",
   "execution_count": null,
   "metadata": {},
   "outputs": [],
   "source": []
  }
 ],
 "metadata": {
  "kernelspec": {
   "display_name": "base",
   "language": "python",
   "name": "python3"
  },
  "language_info": {
   "codemirror_mode": {
    "name": "ipython",
    "version": 3
   },
   "file_extension": ".py",
   "mimetype": "text/x-python",
   "name": "python",
   "nbconvert_exporter": "python",
   "pygments_lexer": "ipython3",
   "version": "3.12.4"
  }
 },
 "nbformat": 4,
 "nbformat_minor": 2
}
