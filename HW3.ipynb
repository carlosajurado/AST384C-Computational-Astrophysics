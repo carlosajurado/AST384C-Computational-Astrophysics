{
 "cells": [
  {
   "cell_type": "markdown",
   "metadata": {},
   "source": [
    "# AST 384C - Computational Astrophysics - HW 3\n",
    "## Carlos Jurado"
   ]
  },
  {
   "cell_type": "code",
   "execution_count": 89,
   "metadata": {},
   "outputs": [],
   "source": [
    "# Python package imports\n",
    "import pandas as pd\n",
    "import numpy as np\n",
    "import matplotlib.pyplot as plt \n",
    "import time\n",
    "import scipy.spatial \n",
    "\n",
    "# Loading in style file for plots\n",
    "plt.style.use('/Users/caj3577/Desktop/plotting.mplstyle')"
   ]
  },
  {
   "cell_type": "markdown",
   "metadata": {},
   "source": [
    "# Problem 1: using KTrees"
   ]
  },
  {
   "cell_type": "markdown",
   "metadata": {},
   "source": [
    "Set up a code that can generate (uniform) random postions in 3D for a set of N equal-mass\n",
    "particles in the range [0, 100] in each dimesion. Make sure to use a random number\n",
    "generator with a seed state that you can specify so that these initial positions are repeatable\n",
    "exactly.\n",
    "calculate the acceleration of every particle assuming vacuum boundary conditions (i.e., you\n",
    "don’t have to worry about periodic boundaries or anything like that) both directly and\n",
    "using a KDTree for N ∈103,4,5,6. How does the timing scale for each method? Do your\n",
    "calculations depend on the method you used?"
   ]
  },
  {
   "cell_type": "markdown",
   "metadata": {},
   "source": [
    "If we let $GM = 1$ in arbitrary units, then the acceleration felt by a particle at position, $r_i$, is given as:\n",
    "\n",
    "$$ \n",
    "\\vec{a_i} = \\sum_{j=0}^{N} \\left( \\frac{-\\vec{r_{ij}}}{|\\vec{r_{ij}}|^3}\\right), i \\neq j\n",
    "$$"
   ]
  },
  {
   "cell_type": "code",
   "execution_count": 122,
   "metadata": {},
   "outputs": [
    {
     "name": "stdout",
     "output_type": "stream",
     "text": [
      "Directly: The time taken to setup 1000 particles is 2.72 seconds\n",
      "KD Tree: The time taken to setup 1000 particles is 1.45 seconds\n",
      "=====================NEW ITERATION==========================\n",
      "Directly: The time taken to setup 10000 particles is 269.75 seconds\n",
      "KD Tree: The time taken to setup 10000 particles is 127.57 seconds\n",
      "=====================NEW ITERATION==========================\n"
     ]
    },
    {
     "ename": "KeyboardInterrupt",
     "evalue": "",
     "output_type": "error",
     "traceback": [
      "\u001b[0;31m---------------------------------------------------------------------------\u001b[0m",
      "\u001b[0;31mKeyboardInterrupt\u001b[0m                         Traceback (most recent call last)",
      "Cell \u001b[0;32mIn[122], line 24\u001b[0m\n\u001b[1;32m     21\u001b[0m     displacement_vecs[i,j] \u001b[38;5;241m=\u001b[39m r_vecs[j] \u001b[38;5;241m-\u001b[39m r_vecs[i] \n\u001b[1;32m     23\u001b[0m     \u001b[38;5;66;03m#compute the distance from the displacement vector\u001b[39;00m\n\u001b[0;32m---> 24\u001b[0m     distances[i,j] \u001b[38;5;241m=\u001b[39m np\u001b[38;5;241m.\u001b[39msqrt(displacement_vecs[i,j,\u001b[38;5;241m0\u001b[39m]\u001b[38;5;241m*\u001b[39m\u001b[38;5;241m*\u001b[39m\u001b[38;5;241m2\u001b[39m \u001b[38;5;241m+\u001b[39m displacement_vecs[i,j,\u001b[38;5;241m1\u001b[39m]\u001b[38;5;241m*\u001b[39m\u001b[38;5;241m*\u001b[39m\u001b[38;5;241m2\u001b[39m \u001b[38;5;241m+\u001b[39m displacement_vecs[i,j,\u001b[38;5;241m2\u001b[39m]\u001b[38;5;241m*\u001b[39m\u001b[38;5;241m*\u001b[39m\u001b[38;5;241m2\u001b[39m) \u001b[38;5;66;03m#calculate the distance from displacement_vecs\u001b[39;00m\n\u001b[1;32m     26\u001b[0m \u001b[38;5;66;03m#ignore the self-interaction term\u001b[39;00m\n\u001b[1;32m     27\u001b[0m mask \u001b[38;5;241m=\u001b[39m distances[i] \u001b[38;5;241m>\u001b[39m \u001b[38;5;241m0\u001b[39m\n",
      "\u001b[0;31mKeyboardInterrupt\u001b[0m: "
     ]
    }
   ],
   "source": [
    "\n",
    "np.random.seed(1234) #initalize random seed for reproducibility\n",
    "\n",
    "N_arr = [10**3, 10**4, 10**5]\n",
    "\n",
    "#i - represents an individual particle \n",
    "#j - represents a pair interaction on the ith particle \n",
    "\n",
    "for N in N_arr:\n",
    "    #Create the numpy array structure to hold the position (acceleration) vectors for all particles\n",
    "    r_vecs, acceleration_vecs = np.random.uniform(0,100,size=(N, 3)), np.zeros((N, 3)) \n",
    "    #print(r_vecs.shape)\n",
    "    # Create the numpy array structure to hold the displacement (magnitudes) for all particles from one another\n",
    "    displacement_vecs,  distances = np.zeros((N, N, 3)), np.zeros((N, N))    \n",
    "    #print(displacement_vecs.shape)\n",
    "\n",
    "    start_time = time.time()\n",
    "    for i in range(N): #loop through each particle\n",
    "        for j in range(N): #loop through each interaction acting on a given particle\n",
    "\n",
    "            #Calculate the displacement between a particle and one of the other particles\n",
    "            displacement_vecs[i,j] = r_vecs[j] - r_vecs[i] \n",
    "\n",
    "            #compute the distance from the displacement vector\n",
    "            distances[i,j] = np.sqrt(displacement_vecs[i,j,0]**2 + displacement_vecs[i,j,1]**2 + displacement_vecs[i,j,2]**2) #calculate the distance from displacement_vecs\n",
    "\n",
    "        #ignore the self-interaction term\n",
    "        mask = distances[i] > 0\n",
    "\n",
    "        #calculate the sum of the accelerations on one particle due to all of the other particles\n",
    "        acceleration_vecs[i] = np.sum( displacement_vecs[i][mask] * (1.0 / distances[i][mask]**3)[:, np.newaxis], axis=0 ) \n",
    "    end_time = time.time()\n",
    "\n",
    "    print(f\"Directly: The time taken to setup {N} particles is {np.round(end_time - start_time,2)} seconds\")\n",
    "\n",
    "\n",
    "\n",
    "    ###Below is the KD Tree Implementation \n",
    "    start_time = time.time() \n",
    "    acceleration_vecs_KD = np.zeros((N, 3))\n",
    "    displacement_vecs_KD, distances_KD = np.zeros((N, N, 3)), np.zeros((N, N))\n",
    "\n",
    "    my_KD = scipy.spatial.cKDTree(r_vecs) #initalize my KD tree\n",
    "    for i in range(N):\n",
    "        #calculate the distance of the nearest neighbor for the N nearests neighbors. In other words, I am getting back \n",
    "        #a ascending ordered list of distances for particle pairings on the ith particle\n",
    "        distances_KD[i], indices = my_KD.query(r_vecs[i], k=N) \n",
    "\n",
    "        for j in range(N):\n",
    "            #Calculate the displacement vectors between a particle and all other particles \n",
    "            displacement_vecs_KD[i,j] = r_vecs[j] - r_vecs[i]\n",
    "\n",
    "        mask = distances_KD[i] > 0 #ignore the self-interaction term\n",
    "\n",
    "        #calculate the sum of the accelerations on one particle due to all of the other particles\n",
    "        acceleration_vecs[i] = np.sum( displacement_vecs_KD[i][mask] * (1.0 / distances_KD[i][mask]**3)[:, np.newaxis], axis=0 )\n",
    "    end_time = time.time()\n",
    "\n",
    "    print(f\"KD Tree: The time taken to setup {N} particles is {np.round(end_time - start_time,2)} seconds\")\n",
    "\n",
    "    print('=====================NEW ITERATION==========================')\n",
    "    \n",
    "    \n",
    "    \n",
    "\n",
    "'''\n",
    "###Below is the KD Tree Implementation \n",
    "my_KD = scipy.spatial.cKDTree(r_vecs)\n",
    "\n",
    "for i in range(N):\n",
    "        distances, indices = my_KD.query(r_vecs[i], k=N)\n",
    "\n",
    "        mask = indices != i  # Exclude self\n",
    "\n",
    "        # Compute acceleration using KDTree results\n",
    "        for j in indices[mask]:  \n",
    "            displacement = r_vecs[j] - r_vecs[i]  \n",
    "            distance = np.linalg.norm(displacement)\n",
    "            if distance > 0:\n",
    "                acceleration_vecs[i] += displacement * (1.0 / distance**3)  \n",
    "\n",
    "end_time = time.time()\n",
    "print(f\"KDTree method: Time taken for {N} particles = {np.round(end_time - start_time, 2)} seconds\")'\n",
    "'''"
   ]
  },
  {
   "cell_type": "code",
   "execution_count": null,
   "metadata": {},
   "outputs": [],
   "source": []
  },
  {
   "cell_type": "code",
   "execution_count": null,
   "metadata": {},
   "outputs": [],
   "source": []
  },
  {
   "cell_type": "code",
   "execution_count": null,
   "metadata": {},
   "outputs": [],
   "source": []
  }
 ],
 "metadata": {
  "kernelspec": {
   "display_name": "base",
   "language": "python",
   "name": "python3"
  },
  "language_info": {
   "codemirror_mode": {
    "name": "ipython",
    "version": 3
   },
   "file_extension": ".py",
   "mimetype": "text/x-python",
   "name": "python",
   "nbconvert_exporter": "python",
   "pygments_lexer": "ipython3",
   "version": "3.12.4"
  }
 },
 "nbformat": 4,
 "nbformat_minor": 2
}
