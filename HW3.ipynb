{
 "cells": [
  {
   "cell_type": "markdown",
   "metadata": {},
   "source": [
    "# AST 384C - Computational Astrophysics - HW 3\n",
    "## Carlos Jurado"
   ]
  },
  {
   "cell_type": "code",
   "execution_count": 2,
   "metadata": {},
   "outputs": [],
   "source": [
    "# Python package imports\n",
    "import pandas as pd\n",
    "import numpy as np\n",
    "import matplotlib.pyplot as plt \n",
    "import time\n",
    "import scipy.spatial \n",
    "from pyro import Pyro\n",
    "from numba import njit, prange\n",
    "\n",
    "# Loading in style file for plots\n",
    "plt.style.use('/Users/caj3577/Desktop/plotting.mplstyle')"
   ]
  },
  {
   "cell_type": "markdown",
   "metadata": {},
   "source": [
    "# Problem 1: using KTrees"
   ]
  },
  {
   "cell_type": "markdown",
   "metadata": {},
   "source": [
    "Set up a code that can generate (uniform) random postions in 3D for a set of N equal-mass\n",
    "particles in the range [0, 100] in each dimesion. Make sure to use a random number\n",
    "generator with a seed state that you can specify so that these initial positions are repeatable\n",
    "exactly.\n",
    "calculate the acceleration of every particle assuming vacuum boundary conditions (i.e., you\n",
    "don’t have to worry about periodic boundaries or anything like that) both directly and\n",
    "using a KDTree for N ∈103,4,5,6. How does the timing scale for each method? Do your\n",
    "calculations depend on the method you used?"
   ]
  },
  {
   "cell_type": "markdown",
   "metadata": {},
   "source": [
    "If we let $GM = 1$ in arbitrary units, then the acceleration felt by a particle at position, $r_i$, is given as:\n",
    "\n",
    "$$ \n",
    "\\vec{a_i} = \\sum_{j=0}^{N} \\left( \\frac{-\\vec{r_{ij}}}{|\\vec{r_{ij}}|^3}\\right), i \\neq j\n",
    "$$"
   ]
  },
  {
   "cell_type": "markdown",
   "metadata": {},
   "source": [
    "#### Initially, I wrote my direct and KDtree method of calculating the acceleration of the particles using nested for-loops. By 10^4 particles, the code had been very inefficient. I have since restructured my code to be vectorized and it has improved the computational speeds up to 10^4 particles. I am still having difficulty running the code for the 10^5 particle case. The following cell contains my revisions for the fully vectorized implementation for calculating the accelerations. \n",
    "\n",
    "#### To boost computational speed even further, I decided to implement Numba, which compiles my python code into C before running. This implementation is contained below the section titled. Numba Implementation For Calculating Accelerations of Particles"
   ]
  },
  {
   "cell_type": "markdown",
   "metadata": {},
   "source": [
    "## Fully Vectorized Implementation For Calculating Accelerations of Particles"
   ]
  },
  {
   "cell_type": "code",
   "execution_count": 2,
   "metadata": {},
   "outputs": [
    {
     "data": {
      "text/plain": [
       "'\\n\\n    ###Below is the KD Tree Implementation \\n    start_time = time.time() \\n    acceleration_vecs_KD = np.zeros((N, 3))\\n    displacement_vecs_KD, distances_KD = np.zeros((N, N, 3)), np.zeros((N, N))\\n\\n    my_KD = scipy.spatial.cKDTree(r_vecs) #initalize my KD tree\\n    for i in range(N):\\n        # calculate the distance of the nearest neighbor for the N nearests neighbors. In other words, I am getting back \\n        # a ascending ordered list of distances for particle pairings on the ith particle\\n        distances_KD[i], indices = my_KD.query(r_vecs[i], k=N) \\n\\n        ###for j in range(N):\\n            #Calculate the displacement vectors between a particle and all other particles \\n            ###displacement_vecs_KD[i,j] = r_vecs[j] - r_vecs[i]    \\n    displacement_vecs_KD = r_vecs[:, np.newaxis, :] - r_vecs[np.newaxis, :, :]\\n\\n\\n        ###mask = distances_KD[i] > 0 #ignore the self-interaction term\\n    mask = distances_KD > 0 \\n\\n        #calculate the sum of the accelerations on one particle due to all of the other particles\\n        ###acceleration_vecs[i] = np.sum( displacement_vecs_KD[i][mask] * (1.0 / distances_KD[i][mask]**3)[:, np.newaxis], axis=0 ) \\n    distances_nonzero = np.where(mask, distances_KD, 1)  # Avoid division by zero\\n    acceleration_vecs_KD = np.sum(displacement_vecs_KD * ((1.0 / distances_nonzero**3) * mask)[:, :, np.newaxis], axis=1)\\n\\n    end_time = time.time()\\n\\n    print(f\"KD Tree: The time taken to setup {N} particles is {np.round(end_time - start_time,2)} seconds\")\\n\\n    print(\\'=====================NEW ITERATION==========================\\')\\n'"
      ]
     },
     "execution_count": 2,
     "metadata": {},
     "output_type": "execute_result"
    }
   ],
   "source": [
    "'''\n",
    "np.random.seed(1234) #initalize random seed for reproducibility\n",
    "\n",
    "N_arr = [10**3, 10**4, 10**5]\n",
    "\n",
    "\n",
    "#i - represents an individual particle \n",
    "#j - represents a pair interaction on the ith particle \n",
    "\n",
    "for N in N_arr:\n",
    "\n",
    "    #Create the numpy array structure to hold the position (acceleration) vectors for all particles\n",
    "    r_vecs, acceleration_vecs = np.random.uniform(0,100,size=(N, 3)), np.zeros((N, 3)) \n",
    "    #print(r_vecs.shape)\n",
    "    # Create the numpy array structure to hold the displacement (magnitudes) for all particles from one another\n",
    "    displacement_vecs,  distances = np.zeros((N, N, 3)), np.zeros((N, N))    \n",
    "    #print(displacement_vecs.shape)\n",
    "\n",
    "    start_time = time.time()\n",
    "    \n",
    "    ###for i in range(N): #loop through each particle\n",
    "        ###for j in range(N): #loop through each interaction acting on a given particle\n",
    "\n",
    "            #Calculate the displacement between a particle and one of the other particles\n",
    "            ###displacement_vecs[i,j] = r_vecs[j] - r_vecs[i] \n",
    "\n",
    "            #compute the distance from the displacement vector\n",
    "            ###distances[i,j] = np.sqrt(displacement_vecs[i,j,0]**2 + displacement_vecs[i,j,1]**2 + displacement_vecs[i,j,2]**2) \n",
    "\n",
    "    displacement_vecs = r_vecs[:, np.newaxis, :] - r_vecs[np.newaxis, :, :]\n",
    "    distances = np.linalg.norm(displacement_vecs, axis=2)\n",
    "\n",
    "    #ignore the self-interaction term\n",
    "    ###mask = distances[i] > 0\n",
    "    #calculate the sum of the accelerations on one particle due to all of the other particles\n",
    "    ###acceleration_vecs[i] = np.sum( displacement_vecs[i][mask] * (1.0 / distances[i][mask]**3)[:, np.newaxis], axis=0 ) \n",
    "\n",
    "    mask = distances > 0 \n",
    "    distances_nonzero = np.where(mask, distances, 1)  # Replace zeros with 1 to avoid division by zero\n",
    "    acceleration_vecs = np.sum(displacement_vecs * ((1.0 / distances_nonzero**3) * mask)[:, :, np.newaxis], axis=1)\n",
    "    end_time = time.time()\n",
    "\n",
    "    print(f\"Directly: The time taken to setup {N} particles is {np.round(end_time - start_time,2)} seconds\")\n",
    "'''\n",
    "\n",
    "'''\n",
    "\n",
    "    ###Below is the KD Tree Implementation \n",
    "    start_time = time.time() \n",
    "    acceleration_vecs_KD = np.zeros((N, 3))\n",
    "    displacement_vecs_KD, distances_KD = np.zeros((N, N, 3)), np.zeros((N, N))\n",
    "\n",
    "    my_KD = scipy.spatial.cKDTree(r_vecs) #initalize my KD tree\n",
    "    for i in range(N):\n",
    "        # calculate the distance of the nearest neighbor for the N nearests neighbors. In other words, I am getting back \n",
    "        # a ascending ordered list of distances for particle pairings on the ith particle\n",
    "        distances_KD[i], indices = my_KD.query(r_vecs[i], k=N) \n",
    "\n",
    "        ###for j in range(N):\n",
    "            #Calculate the displacement vectors between a particle and all other particles \n",
    "            ###displacement_vecs_KD[i,j] = r_vecs[j] - r_vecs[i]    \n",
    "    displacement_vecs_KD = r_vecs[:, np.newaxis, :] - r_vecs[np.newaxis, :, :]\n",
    "\n",
    "\n",
    "        ###mask = distances_KD[i] > 0 #ignore the self-interaction term\n",
    "    mask = distances_KD > 0 \n",
    "\n",
    "        #calculate the sum of the accelerations on one particle due to all of the other particles\n",
    "        ###acceleration_vecs[i] = np.sum( displacement_vecs_KD[i][mask] * (1.0 / distances_KD[i][mask]**3)[:, np.newaxis], axis=0 ) \n",
    "    distances_nonzero = np.where(mask, distances_KD, 1)  # Avoid division by zero\n",
    "    acceleration_vecs_KD = np.sum(displacement_vecs_KD * ((1.0 / distances_nonzero**3) * mask)[:, :, np.newaxis], axis=1)\n",
    "\n",
    "    end_time = time.time()\n",
    "\n",
    "    print(f\"KD Tree: The time taken to setup {N} particles is {np.round(end_time - start_time,2)} seconds\")\n",
    "\n",
    "    print('=====================NEW ITERATION==========================')\n",
    "'''\n",
    "\n",
    "\n",
    "\n",
    "\n"
   ]
  },
  {
   "cell_type": "markdown",
   "metadata": {},
   "source": [
    "## Numba Implementation For Calculating Accelerations of Particles"
   ]
  },
  {
   "cell_type": "code",
   "execution_count": 3,
   "metadata": {},
   "outputs": [
    {
     "name": "stdout",
     "output_type": "stream",
     "text": [
      "\n",
      "N = 50\n",
      "Direct: Time taken for 50 particles: 1.4 s\n",
      "KD Tree: Time taken for 50 particles: 0.36 s\n",
      "============================================================\n",
      "\n",
      "N = 100\n",
      "Direct: Time taken for 100 particles: 0.0 s\n",
      "KD Tree: Time taken for 100 particles: 0.0 s\n",
      "============================================================\n",
      "\n",
      "N = 1000\n",
      "Direct: Time taken for 1000 particles: 0.0 s\n",
      "KD Tree: Time taken for 1000 particles: 0.02 s\n",
      "============================================================\n",
      "\n",
      "N = 10000\n",
      "Direct: Time taken for 10000 particles: 0.1 s\n",
      "KD Tree: Time taken for 10000 particles: 1.72 s\n",
      "============================================================\n"
     ]
    }
   ],
   "source": [
    "N_arr = [50, 10**2, 10**3, 10**4]\n",
    "time_direct_arr = []\n",
    "time_KD_arr = []\n",
    "\n",
    "@njit(parallel=True)\n",
    "def compute_accelerations(r_vecs, indices=None, distances=None):\n",
    "    ''' \n",
    "    Computes the acceleration of all particles due to the gravitational force from every other particle in the simulation. \n",
    "    The acceleration is computed for the direct method. \n",
    "\n",
    "    Parameters:\n",
    "    r_vecs: Numpy array (N, 3) containing the position vector of all particles \n",
    "    indices: (For KD Tree Impementation) Index of a particle. In this context, this is an array of the indices for the nearest neighbors to the given particle \n",
    "    distances: (For KD Tree Impementation)\n",
    "    '''\n",
    "    N = r_vecs.shape[0]\n",
    "    acc = np.zeros((N, 3))\n",
    "    \n",
    "    #Direct Method calculation of the accelerations\n",
    "    if indices is None:\n",
    "        for i in prange(N): #loop through each particle\n",
    "            for j in range(N): #loop through each interaction acting on a given particle\n",
    "                if i != j: #avoid self-interaction\n",
    "                    dx = r_vecs[j, 0] - r_vecs[i, 0] #calculate displacement in x-direction\n",
    "                    dy = r_vecs[j, 1] - r_vecs[i, 1] #calculate displacement in y-direction\n",
    "                    dz = r_vecs[j, 2] - r_vecs[i, 2] #calculate displacement in z-direction\n",
    "                    squared_distance = dx*dx + dy*dy + dz*dz  #compute the distance\n",
    "                    Fg = 1.0 / ((squared_distance)**3 + 1e-6) #calculate the gravitational force\n",
    "                    acc[i, 0] += dx * Fg #multiply x-acceleration by the x-vector component \n",
    "                    acc[i, 1] += dy * Fg #multiply y-acceleration by the y-vector component \n",
    "                    acc[i, 2] += dz * Fg #multiply z-acceleration by the z-vector component \n",
    "    return acc\n",
    "\n",
    "'''  \n",
    "    #KD Tree Method calculation of the accelerations\n",
    "    else:\n",
    "        K = indices.shape[1]\n",
    "        for i in prange(N): #loop through each particle\n",
    "            for k in range(K): #loop through each interaction acting on a given particle (maximum of 10% nearest neighbors)\n",
    "                j = indices[i, k]\n",
    "                if i != j: #avoid self-interaction\n",
    "                    dx = r_vecs[j, 0] - r_vecs[i, 0] #calculate displacement in x-direction\n",
    "                    dy = r_vecs[j, 1] - r_vecs[i, 1] #calculate displacement in y-direction\n",
    "                    dz = r_vecs[j, 2] - r_vecs[i, 2] #calculate displacement in z-direction\n",
    "                    dist = distances[i, k]\n",
    "                    Fg = 1.0 / (dist**3 + 1e-6)\n",
    "                    acc[i, 0] += dx * Fg\n",
    "                    acc[i, 1] += dy * Fg\n",
    "                    acc[i, 2] += dz * Fg\n",
    "'''                   \n",
    "    #return acc\n",
    "\n",
    "\n",
    "@njit(parallel=True)\n",
    "def compute_accelerations_KDE(r_vecs, indices, distances):\n",
    "    ''' \n",
    "    Computes the acceleration of all particles due to the gravitational force from every other particle in the simulation. \n",
    "    The acceleration is computed for the KDTree method. \n",
    "\n",
    "    Parameters:\n",
    "    r_vecs: Numpy array (N, 3) containing the position vector of all particles \n",
    "    indices: (For KD Tree Impementation) Index of a particle. In this context, this is an array of the indices for the nearest neighbors to the given particle \n",
    "    distances: (For KD Tree Impementation)\n",
    "    '''\n",
    "    N = r_vecs.shape[0]\n",
    "    acc = np.zeros((N, 3))\n",
    "    #KD Tree Method calculation of the accelerations\n",
    "    K = indices.shape[1]\n",
    "    for i in prange(N): #loop through each particle\n",
    "        for k in range(K): #loop through each interaction acting on a given particle (maximum of 10% nearest neighbors)\n",
    "            j = indices[i, k]\n",
    "            if i != j: #avoid self-interaction\n",
    "                dx = r_vecs[j, 0] - r_vecs[i, 0] #calculate displacement in x-direction\n",
    "                dy = r_vecs[j, 1] - r_vecs[i, 1] #calculate displacement in y-direction\n",
    "                dz = r_vecs[j, 2] - r_vecs[i, 2] #calculate displacement in z-direction\n",
    "                dist = distances[i, k]\n",
    "                Fg = 1.0 / (dist**3 + 1e-6)\n",
    "                acc[i, 0] += dx * Fg\n",
    "                acc[i, 1] += dy * Fg\n",
    "                acc[i, 2] += dz * Fg\n",
    "                  \n",
    "    return acc\n",
    "\n",
    "\n",
    "for N in N_arr: #loop through simulations with different number of particles\n",
    "    print(f\"\\nN = {N}\")\n",
    "    \n",
    "    # Direct Method\n",
    "    r_vecs = np.random.uniform(0, 100, size=(N, 3)) #generate uniform random distribution of particles in 3D space\n",
    "    \n",
    "    start_time = time.time() #begin tracking time\n",
    "    acceleration_vecs = compute_accelerations(r_vecs) #calculate the accelerations\n",
    "    end_time = time.time()\n",
    "    \n",
    "    elapsed_time = np.round(end_time - start_time, 2)\n",
    "    time_direct_arr.append(elapsed_time)\n",
    "    print(f\"Direct: Time taken for {N} particles: {elapsed_time} s\")\n",
    "    \n",
    "    # KD Tree Method\n",
    "    k = int(0.1 * N) # only use nearest 10% of the neighbors\n",
    "    start_time = time.time()\n",
    "    \n",
    "    \n",
    "    my_KD = scipy.spatial.cKDTree(r_vecs) #initialize KD Tree\n",
    "    distances_KD, indices_KD = my_KD.query(r_vecs, k=k)\n",
    "    \n",
    "    acceleration_vecs_KD = compute_accelerations_KDE(r_vecs, indices_KD, distances_KD)  #calculate the accelerations\n",
    "    end_time = time.time() #end tracking time\n",
    "\n",
    "    elapsed_time = np.round(end_time - start_time, 2)\n",
    "    time_KD_arr.append(elapsed_time)\n",
    "    print(f\"KD Tree: Time taken for {N} particles: {elapsed_time} s\")\n",
    "    print(\"============================================================\")\n"
   ]
  },
  {
   "cell_type": "code",
   "execution_count": 12,
   "metadata": {},
   "outputs": [
    {
     "data": {
      "text/plain": [
       "<matplotlib.legend.Legend at 0x30cdf1a00>"
      ]
     },
     "execution_count": 12,
     "metadata": {},
     "output_type": "execute_result"
    },
    {
     "data": {
      "image/png": "[encoded data removed]",
      "text/plain": [
       "<Figure size 800x600 with 1 Axes>"
      ]
     },
     "metadata": {},
     "output_type": "display_data"
    }
   ],
   "source": [
    "plt.scatter(N_arr, time_direct_arr, color='black')\n",
    "plt.plot(N_arr, time_direct_arr, color='black', linestyle='--', lw=2, label='Direct Method')\n",
    "\n",
    "plt.scatter(N_arr, time_KD_arr, color='red')\n",
    "plt.plot(N_arr, time_KD_arr, color='red', linestyle='--', lw=2, label='KD Tree Method')\n",
    "\n",
    "plt.xlabel('Number of Particles')\n",
    "plt.ylabel('Time (s)')\n",
    "\n",
    "plt.xscale('log')\n",
    "plt.xlim(10**2, 10**5)\n",
    "plt.legend()"
   ]
  },
  {
   "cell_type": "markdown",
   "metadata": {},
   "source": [
    "# Problem 2: hydro solvers"
   ]
  },
  {
   "cell_type": "markdown",
   "metadata": {},
   "source": [
    "Play around with it and have a look at the code – especially riemann.py, which will really\n",
    "help you understand how the Riemann problem is implemented and solved.\n",
    "\n",
    "• Run the Kelvin-Helmholtz tests for the 4 hydro solvers exactly as in the code guide.\n",
    "\n",
    "• Now repeat this with a relative velocity of ±10 instead of 1. Describe the differences, if\n",
    "any, and their origin, relative to the u =±1 case.\n",
    "1\n"
   ]
  },
  {
   "cell_type": "code",
   "execution_count": null,
   "metadata": {},
   "outputs": [],
   "source": [
    "first_solvers = [\"compressible\", \"compressible_rk\", \"compressible_fv4\", \"compressible_sdc\"] #list of the hydro solvers to use\n",
    "first_problem_name = \"kh\"\n",
    "first_param_file = \"inputs.kh\" #reference the input parameter file\n",
    "first_extra_parameters = {'eos.gamma': 1.7, 'kh.bulk_velocity': 0,} #input parameters to change\n",
    "\n",
    "for solver in first_solvers:\n",
    "    pyro_sim = Pyro(solver) #create a Pyro object\n",
    "    pyro_sim.initialize_problem(first_problem_name, inputs_file=first_param_file, inputs_dict=first_extra_parameters) #initalize a Pyro object with the input parameters\n",
    "    #print(pyro_sim)\n",
    "    pyro_sim.run_sim() #time evolve the simulation\n",
    "    print(f\"Simulation with gamma=1.7 and Delta U = 1 km/s using {solver}.\")\n",
    "    pyro_sim.sim.dovis() #plot the results"
   ]
  },
  {
   "cell_type": "code",
   "execution_count": null,
   "metadata": {},
   "outputs": [],
   "source": [
    "second_solvers = [\"compressible\", \"compressible_rk\", \"compressible_fv4\", \"compressible_sdc\"]\n",
    "second_problem_name = \"kh\"\n",
    "second_param_file = \"inputs.kh\"\n",
    "second_extra_parameters = {'eos.gamma': 1.7, \n",
    "                           'mesh.nx' : 72, 'mesh.ny' : 72,\n",
    "                           'kh.bulk_velocity': 10,\n",
    "                           'kh.u_1': -0.5, 'kh.u_2': 0.5}\n",
    "\n",
    "for solver in second_solvers:\n",
    "    pyro_sim = Pyro(solver) #create a Pyro object\n",
    "    pyro_sim.initialize_problem(second_problem_name, inputs_file=second_param_file, inputs_dict=second_extra_parameters) #initalize a Pyro object with the input parameters\n",
    "    pyro_sim.run_sim() #time evolve the simulation\n",
    "    print(f\"Simulation with gamma=1.7 and bulk velocity = 10 km/s using {solver}.\")\n",
    "    pyro_sim.sim.dovis() #plot the results"
   ]
  },
  {
   "cell_type": "markdown",
   "metadata": {},
   "source": [
    "Describe the differences, if any, and their origin, relative to the u =±1 case."
   ]
  },
  {
   "cell_type": "markdown",
   "metadata": {},
   "source": [
    "##### In the Delta U = 10 case, I notice that shapes of the upper left plot changes depending on the solver implementation. The 'compressible' and 'compressible_rk' solvers show different structure for the fluid motion then the 'compressible_fv4' and 'compressible_sdc' cases. I suspect that this is a numerical artifact as the only differences are how the hydro equations are being solved. "
   ]
  },
  {
   "cell_type": "code",
   "execution_count": null,
   "metadata": {},
   "outputs": [],
   "source": []
  }
 ],
 "metadata": {
  "kernelspec": {
   "display_name": "base",
   "language": "python",
   "name": "python3"
  },
  "language_info": {
   "codemirror_mode": {
    "name": "ipython",
    "version": 3
   },
   "file_extension": ".py",
   "mimetype": "text/x-python",
   "name": "python",
   "nbconvert_exporter": "python",
   "pygments_lexer": "ipython3",
   "version": "3.12.4"
  }
 },
 "nbformat": 4,
 "nbformat_minor": 2
}
