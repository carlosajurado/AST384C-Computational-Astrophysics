{
 "cells": [
  {
   "cell_type": "markdown",
   "metadata": {},
   "source": [
    "# AST 384C - Computational Astrophysics - HW 3\n",
    "## Carlos Jurado"
   ]
  },
  {
   "cell_type": "code",
   "execution_count": 23,
   "metadata": {},
   "outputs": [],
   "source": [
    "# Python package imports\n",
    "import pandas as pd\n",
    "import numpy as np\n",
    "import matplotlib.pyplot as plt \n",
    "import timeit\n",
    "from tqdm import tqdm\n",
    "import time\n",
    "\n",
    "# Loading in style file for plots\n",
    "plt.style.use('/Users/caj3577/Desktop/plotting.mplstyle')"
   ]
  },
  {
   "cell_type": "markdown",
   "metadata": {},
   "source": [
    "# Problem 1: using KTrees"
   ]
  },
  {
   "cell_type": "markdown",
   "metadata": {},
   "source": [
    "Set up a code that can generate (uniform) random postions in 3D for a set of N equal-mass\n",
    "particles in the range [0, 100] in each dimesion. Make sure to use a random number\n",
    "generator with a seed state that you can specify so that these initial positions are repeatable\n",
    "exactly.\n",
    "calculate the acceleration of every particle assuming vacuum boundary conditions (i.e., you\n",
    "don’t have to worry about periodic boundaries or anything like that) both directly and\n",
    "using a KDTree for N ∈103,4,5,6. How does the timing scale for each method? Do your\n",
    "calculations depend on the method you used?"
   ]
  },
  {
   "cell_type": "markdown",
   "metadata": {},
   "source": [
    "If we let $GM = 1$ in arbitrary units, then the acceleration felt by a particle at position, $r_i$, is given as:\n",
    "\n",
    "$$ \n",
    "\\vec{a_i} = \\sum_{j=0}^{N} \\left( \\frac{-\\vec{r_{ij}}}{|\\vec{r_{ij}}|^3}\\right), i \\neq j\n",
    "$$"
   ]
  },
  {
   "cell_type": "code",
   "execution_count": 80,
   "metadata": {},
   "outputs": [],
   "source": [
    "\n",
    "np.random.seed(1234) #initalize random seed for reproducibility\n",
    "\n",
    "N = 10**3\n",
    "\n",
    "r_vecs, acceleration_vecs = np.random.uniform(0,100,size=(N, 3)), np.zeros((N, 3))                            #Create the numpy array structure to hold the position (acceleration) vectors for all particles\n",
    "#print(r_vecs.shape)\n",
    "displacement_vecs,  distances = np.zeros((N, N, 3)), np.zeros((N, N)) # Create the numpy array structure to hold the displacement (magnitudes) for all particles from one another\n",
    "#print(displacement_vecs.shape)\n",
    "\n",
    "\n",
    "for i in range(N):\n",
    "    for j in range(N):\n",
    "        displacement_vecs[i,j] = r_vecs[j] - r_vecs[i] #calculate the displacement between r_j and r_i\n",
    "        distances[i,j] = np.sqrt(displacement_vecs[i,j,0]**2 + displacement_vecs[i,j,1]**2 + displacement_vecs[i,j,2]**2) #calculate the distance from displacement_vecs\n",
    "\n",
    "    mask = distances[i] > 0\n",
    "\n",
    "    acceleration_vecs[i] = np.sum( displacement_vecs[i][mask] * (1.0 / distances[i][mask]**3)[:, np.newaxis], axis=0 )\n",
    "\n",
    "   "
   ]
  },
  {
   "cell_type": "code",
   "execution_count": null,
   "metadata": {},
   "outputs": [],
   "source": []
  }
 ],
 "metadata": {
  "kernelspec": {
   "display_name": "base",
   "language": "python",
   "name": "python3"
  },
  "language_info": {
   "codemirror_mode": {
    "name": "ipython",
    "version": 3
   },
   "file_extension": ".py",
   "mimetype": "text/x-python",
   "name": "python",
   "nbconvert_exporter": "python",
   "pygments_lexer": "ipython3",
   "version": "3.12.4"
  }
 },
 "nbformat": 4,
 "nbformat_minor": 2
}
